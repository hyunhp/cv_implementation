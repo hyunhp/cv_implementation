{
 "cells": [
  {
   "cell_type": "code",
   "execution_count": 1,
   "metadata": {},
   "outputs": [],
   "source": [
    "# PROGRAM NO.: 1. IMPLEMENTATION U-Net Paper\n",
    "# CREATED AT : 2023-02-14\n",
    "# UPDATED AT : 2023-02-14\n",
    "# PURPOSE ON : Implement the research paper into code.\n",
    "\n",
    "# https://dacon.io/codeshare/4245"
   ]
  },
  {
   "cell_type": "code",
   "execution_count": 2,
   "metadata": {},
   "outputs": [
    {
     "name": "stdout",
     "output_type": "stream",
     "text": [
      "DEVICE : cpu.\n",
      "\n",
      "IMPORT DONE...\n"
     ]
    }
   ],
   "source": [
    "# IMPORT LIBRARY\n",
    "\n",
    "import numpy as np\n",
    "\n",
    "import torch\n",
    "import torch.nn as nn\n",
    "\n",
    "# Purpose : Random Shuffle Dataset\n",
    "from torch.utils.data.sampler import SubsetRandomSampler\n",
    "\n",
    "from torchvision import datasets\n",
    "from torchvision import transforms\n",
    "\n",
    "from tqdm import tqdm\n",
    "\n",
    "# Purpose EDA\n",
    "import os \n",
    "from PIL import Image\n",
    "import matplotlib.pyplot as plt\n",
    "\n",
    "# Erase cache data\n",
    "import gc\n",
    "\n",
    "# DEVICE Configuration\n",
    "device = torch.device('cuda' if torch.cuda.is_available() else 'cpu')\n",
    "\n",
    "print(f'DEVICE : {device}.\\n')\n",
    "\n",
    "print(f'IMPORT DONE...')"
   ]
  },
  {
   "cell_type": "code",
   "execution_count": 13,
   "metadata": {},
   "outputs": [],
   "source": [
    "# Load data\n",
    "data_dir ='./data/'\n",
    "\n",
    "name_label = 'train-labels.tif'\n",
    "name_input = 'train-volume.tif'\n",
    "\n",
    "img_label = Image.open(os.path.join(data_dir, name_label))\n",
    "img_input = Image.open(os.path.join(data_dir, name_input))\n",
    "\n",
    "# size = (512, 512)\n",
    "ny, nx = img_label.size\n",
    "\n",
    "# frame number = 30\n",
    "nframe = img_label.n_frames\n",
    "\n",
    "# train/test/val data split\n",
    "# train = 0.8 / test = 0.1 / validation = 0.1\n",
    "nframe_train = nframe * 0.8\n",
    "nframe_test = nframe * 0.1\n",
    "nframe_val = nframe * 0.1\n",
    "\n",
    "dir_save_train = os.path.join(data_dir, 'train')\n",
    "dir_save_test = os.path.join(data_dir, 'test')\n",
    "dir_save_val = os.path.join(data_dir, 'val')\n",
    "\n",
    "'''\n",
    "Make a train/test/val path\n",
    "'''\n",
    "\n",
    "if not os.path(dir_save_train):\n",
    "    os.makedirs(dir_save_train)\n",
    "\n",
    "if not os.path(dir_save_test):\n",
    "    os.makedirs(dir_save_test)\n",
    "\n"
   ]
  },
  {
   "cell_type": "code",
   "execution_count": 12,
   "metadata": {},
   "outputs": [
    {
     "data": {
      "text/plain": [
       "30"
      ]
     },
     "execution_count": 12,
     "metadata": {},
     "output_type": "execute_result"
    }
   ],
   "source": [
    "img_label.size\n",
    "img_label.n_frames"
   ]
  },
  {
   "cell_type": "code",
   "execution_count": null,
   "metadata": {},
   "outputs": [],
   "source": []
  },
  {
   "cell_type": "code",
   "execution_count": null,
   "metadata": {},
   "outputs": [],
   "source": [
    "# DEFINE FUNCTION\n",
    "\n",
    "'''\n",
    "Normalized Image = (Image - Mean) / Std\n",
    "# Min-max scaling -> Can erase pixel intensity and make progress faster\n",
    "# Z-scror scaling -> can improve the segmentation task performance, because boundary can be seperated more easily\n",
    "'''\n",
    "\n",
    "normalize = transforms.Normalize((r_mean, b_mean, g_mean), (r_std, b_std, g_std))\n",
    "\n",
    "# Reference : https://teddylee777.github.io/pytorch/torchvision-transform/\n",
    "transform = transforms.Compose([\n",
    "    transforms.ToTensor(),\n",
    "    normalize\n",
    "    ])\n"
   ]
  }
 ],
 "metadata": {
  "kernelspec": {
   "display_name": "base",
   "language": "python",
   "name": "python3"
  },
  "language_info": {
   "codemirror_mode": {
    "name": "ipython",
    "version": 3
   },
   "file_extension": ".py",
   "mimetype": "text/x-python",
   "name": "python",
   "nbconvert_exporter": "python",
   "pygments_lexer": "ipython3",
   "version": "3.8.5"
  },
  "orig_nbformat": 4,
  "vscode": {
   "interpreter": {
    "hash": "9599a442548defb0e78ee49ed89374fba1fe506e322cbdcd6117fabe8bebb432"
   }
  }
 },
 "nbformat": 4,
 "nbformat_minor": 2
}
